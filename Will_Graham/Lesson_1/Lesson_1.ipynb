{
 "cells": [
  {
   "cell_type": "markdown",
   "id": "cc0d2125-f520-459d-9ff2-d8799390c218",
   "metadata": {},
   "source": [
    "# Lesson 1 #\n",
    "### March 8, 2023 ###"
   ]
  },
  {
   "cell_type": "markdown",
   "id": "a3db428c-aea6-451d-bee3-e7a5a7631aa1",
   "metadata": {},
   "source": [
    "## Problem 1 ##\n",
    "Find the $x$ and $y$ intercepts from the graph."
   ]
  },
  {
   "cell_type": "code",
   "execution_count": null,
   "id": "15314ba1-0d12-4b1a-8fc3-1d2690cafe4b",
   "metadata": {},
   "outputs": [],
   "source": []
  },
  {
   "cell_type": "markdown",
   "id": "2c7cb45c-7acd-44d1-bddb-57b8aa5c2473",
   "metadata": {},
   "source": [
    "## Problem 2 ##\n",
    "Find the slope and $y$-intercept. Graph the line."
   ]
  },
  {
   "cell_type": "code",
   "execution_count": null,
   "id": "5131740a-ea66-451f-a41a-76f731548621",
   "metadata": {},
   "outputs": [],
   "source": []
  },
  {
   "cell_type": "markdown",
   "id": "7e639142-ff1c-4cb6-993f-d4040031182c",
   "metadata": {},
   "source": [
    "## Problem 3 ##\n",
    "Find an equation for a line that passes through $(6, 2)$ and $(8, 5)$ in *slope intercept* and *point-slope form*."
   ]
  },
  {
   "cell_type": "code",
   "execution_count": null,
   "id": "b7542f4d-e8a8-44f1-b4f5-848ed6821a92",
   "metadata": {},
   "outputs": [],
   "source": []
  },
  {
   "cell_type": "markdown",
   "id": "cef8acb7-6d5a-4820-88bc-066c967ecacc",
   "metadata": {},
   "source": [
    "## Problem 4 ##\n",
    "Solve for $x$: $$\\frac{x + 8}{4} = \\frac{9}{4} - \\frac{x - 1}{2}$$"
   ]
  },
  {
   "cell_type": "code",
   "execution_count": null,
   "id": "6991b14a-df3d-408d-97ac-72e8f6ccaec9",
   "metadata": {},
   "outputs": [],
   "source": []
  },
  {
   "cell_type": "markdown",
   "id": "6425695c-591f-4866-9f70-337e37095536",
   "metadata": {},
   "source": [
    "## Problem 5 ##\n",
    "List the restricted value (RV) and solve: $$\\frac{10}{x - 8} + 5 = \\frac{5}{x - 8}$$"
   ]
  },
  {
   "cell_type": "code",
   "execution_count": null,
   "id": "921fe10f-beec-4055-b5e6-1c21cd684ce5",
   "metadata": {},
   "outputs": [],
   "source": []
  },
  {
   "cell_type": "markdown",
   "id": "6913d2f0-8643-4291-b166-9dd56d8e7b57",
   "metadata": {},
   "source": [
    "## Problem 6 ##\n",
    "Solve for $c$: $$\\frac{1}{a} + \\frac{1}{b} = \\frac{1}{c}$$"
   ]
  },
  {
   "cell_type": "code",
   "execution_count": null,
   "id": "b043ab89-f343-4efb-bf14-03e57c8e5293",
   "metadata": {},
   "outputs": [],
   "source": []
  },
  {
   "cell_type": "markdown",
   "id": "0b32132d-b50e-45d0-b12c-b1de47140ad0",
   "metadata": {},
   "source": [
    "## Problem 7 ##\n",
    "Solve for $x$ and $y$: $$x + 9y = 11$$ $$-5x + 8y = -2$$"
   ]
  },
  {
   "cell_type": "code",
   "execution_count": null,
   "id": "abee61b4-e4e7-4cf7-8860-814d0ed093ab",
   "metadata": {},
   "outputs": [],
   "source": []
  },
  {
   "cell_type": "markdown",
   "id": "d61108d4-a31a-4cce-a861-454952dd199a",
   "metadata": {},
   "source": [
    "## Problem 8 ##\n",
    "There are 24 more sophmores than juniors in an algebra class. If there are 68 students in this class, find the number of sophomores and the number of juniors in the class."
   ]
  },
  {
   "cell_type": "code",
   "execution_count": null,
   "id": "5e7966d5-8419-4092-85fd-f2f4d9324229",
   "metadata": {},
   "outputs": [],
   "source": []
  },
  {
   "cell_type": "markdown",
   "id": "5cd37062-94ab-45f4-9ff6-57f92f5131be",
   "metadata": {},
   "source": [
    "## Problem 9 ##\n",
    "$\\frac{6 + 3i}{5 + 2i}$"
   ]
  },
  {
   "cell_type": "code",
   "execution_count": null,
   "id": "a86de442-1b30-43fa-af20-6071f7eacafd",
   "metadata": {},
   "outputs": [],
   "source": []
  },
  {
   "cell_type": "markdown",
   "id": "b0ec529c-3684-46ea-914c-d3903d00eff0",
   "metadata": {},
   "source": [
    "## Problem 10 ##\n",
    "$(-9 + \\sqrt{-4})^2$"
   ]
  },
  {
   "cell_type": "code",
   "execution_count": null,
   "id": "72d50db6-b8d1-4b36-a6a8-afd129e6a9e4",
   "metadata": {},
   "outputs": [],
   "source": []
  },
  {
   "cell_type": "markdown",
   "id": "a8976420-a963-4b55-96a6-28c3032c9d3e",
   "metadata": {},
   "source": [
    "## Problem 11 ##\n",
    "Use the quadratic formula to solve $2x^2 - 9x = 5$"
   ]
  },
  {
   "cell_type": "code",
   "execution_count": null,
   "id": "263ebc01-1df0-4444-85c3-ed78328ff9b3",
   "metadata": {},
   "outputs": [],
   "source": []
  },
  {
   "cell_type": "markdown",
   "id": "1ed1863c-64a4-4480-8fd4-39e52f4bcb61",
   "metadata": {},
   "source": [
    "## Problem 12 ##\n",
    "Use the square root property to solve $(x - 5)^2 = -144$"
   ]
  },
  {
   "cell_type": "code",
   "execution_count": null,
   "id": "56d96705-191b-4422-a34d-c31fafe5a363",
   "metadata": {},
   "outputs": [],
   "source": []
  },
  {
   "cell_type": "markdown",
   "id": "1352e7d7-3ba0-4c37-baa4-949cc5c8f5c8",
   "metadata": {},
   "source": [
    "## Problem 13 ##\n",
    "Let $y = x^2 + 2x - 3$. Find the vertex, $x$-intercept, $y$-intercept, and graph."
   ]
  },
  {
   "cell_type": "code",
   "execution_count": null,
   "id": "2cb20d3b-47d5-4482-9b8f-9f1d3bb284e6",
   "metadata": {},
   "outputs": [],
   "source": []
  },
  {
   "cell_type": "markdown",
   "id": "551942f8-adee-4636-a7ba-2a691775b648",
   "metadata": {},
   "source": [
    "## Problem 14 ##\n",
    "Solve for $x$: $$\\sqrt{18x + 9} = x + 5$$"
   ]
  },
  {
   "cell_type": "code",
   "execution_count": null,
   "id": "c6d61d09-8f2d-43a6-8890-6e5efc91cdf0",
   "metadata": {},
   "outputs": [],
   "source": []
  },
  {
   "cell_type": "markdown",
   "id": "550e41f8-7675-4f75-9a58-301469d08b44",
   "metadata": {},
   "source": [
    "## Problem 15 ##\n",
    "Solve for $x$: $$|2x + 6| + 3 = 5$$"
   ]
  },
  {
   "cell_type": "code",
   "execution_count": null,
   "id": "079a189b-ffb8-43ed-961d-473d5655b45d",
   "metadata": {},
   "outputs": [],
   "source": []
  },
  {
   "cell_type": "markdown",
   "id": "d404b527-c63b-49f5-9a25-e7eaf6310a81",
   "metadata": {},
   "source": [
    "## Problem 16 ##\n",
    "Solve for $x$: $$x^2 + 10x + 21 > 0$$"
   ]
  },
  {
   "cell_type": "code",
   "execution_count": null,
   "id": "4864a081-c3a5-48eb-81e3-2e63f85995ed",
   "metadata": {},
   "outputs": [],
   "source": []
  },
  {
   "cell_type": "markdown",
   "id": "c2ca3342-3cae-4486-a266-0ddcd9b4ca61",
   "metadata": {},
   "source": [
    "## Problem 17 ##\n",
    "Solve for $x$: $$\\frac{(x + 8)(x - 6)}{x - 1} \\geq 0$$"
   ]
  }
 ],
 "metadata": {
  "kernelspec": {
   "display_name": "Python 3 (ipykernel)",
   "language": "python",
   "name": "python3"
  },
  "language_info": {
   "codemirror_mode": {
    "name": "ipython",
    "version": 3
   },
   "file_extension": ".py",
   "mimetype": "text/x-python",
   "name": "python",
   "nbconvert_exporter": "python",
   "pygments_lexer": "ipython3",
   "version": "3.10.8"
  }
 },
 "nbformat": 4,
 "nbformat_minor": 5
}
